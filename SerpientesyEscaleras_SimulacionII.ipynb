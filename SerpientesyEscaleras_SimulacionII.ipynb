{
  "nbformat": 4,
  "nbformat_minor": 0,
  "metadata": {
    "colab": {
      "provenance": []
    },
    "kernelspec": {
      "name": "python3",
      "display_name": "Python 3"
    },
    "language_info": {
      "name": "python"
    }
  },
  "cells": [
    {
      "cell_type": "code",
      "execution_count": null,
      "metadata": {
        "id": "bI7xejIfLdLu"
      },
      "outputs": [],
      "source": [
        "import random\n",
        "\n",
        "# Definir el tablero de juego\n",
        "tablero = {\n",
        "    1: 0, 2: 0, 3: 0, 4: 0, 5: 0,\n",
        "    6: 0, 7: 0, 8: 0, 9: 0, 10: 0,\n",
        "    11: 0, 12: 0, 13: 0, 14: 0, 15: 0,\n",
        "    16: 0, 17: 0, 18: 0, 19: 0\n",
        "}\n",
        "\n",
        "# Definir las serpientes y escaleras\n",
        "serpientes = {16: 3, 10: 2}\n",
        "escaleras = {4: 13, 8: 15}\n",
        "\n",
        "# Función para mover al jugador\n",
        "def mover_jugador(jugador, casillas):\n",
        "    posicion_actual = tablero[jugador]\n",
        "    nueva_posicion = posicion_actual + casillas\n",
        "    if nueva_posicion in serpientes:\n",
        "        return serpientes[nueva_posicion]\n",
        "    elif nueva_posicion in escaleras:\n",
        "        return escaleras[nueva_posicion]\n",
        "    else:\n",
        "        return nueva_posicion\n",
        "\n",
        "# Función para jugar el juego\n",
        "def jugar_serpientes_y_escaleras():\n",
        "    # Inicializar los jugadores en la casilla 1\n",
        "    jugador1 = 1\n",
        "    jugador2 = 1\n",
        "\n",
        "    # Contador de turnos\n",
        "    turnos = 0\n",
        "\n",
        "    # Comenzar el juego\n",
        "    while True:\n",
        "        # Turno del jugador 1\n",
        "        dado = random.randint(1, 6)\n",
        "        jugador1 = mover_jugador(jugador1, dado)\n",
        "        turnos += 1\n",
        "        if jugador1 == 19:\n",
        "            return turnos\n",
        "\n",
        "        # Turno del jugador 2\n",
        "        dado = random.randint(1, 6)\n",
        "        jugador2 = mover_jugador(jugador2, dado)\n",
        "        turnos += 1\n",
        "        if jugador2 == 19:\n",
        "            return turnos\n",
        "\n",
        "# Ejecutar múltiples simulaciones y calcular el promedio de turnos\n",
        "num_simulaciones = 100000\n",
        "total_turnos = 0\n",
        "\n",
        "for i in range(num_simulaciones):\n",
        "    turnos = jugar_serpientes_y_escaleras()\n",
        "    total_turnos += turnos\n",
        "\n",
        "promedio_turnos = total_turnos / num_simulaciones\n",
        "\n",
        "print(\"En promedio, se necesitan\", promedio_turnos, \"tiros para terminar el juego.\")"
      ]
    }
  ]
}