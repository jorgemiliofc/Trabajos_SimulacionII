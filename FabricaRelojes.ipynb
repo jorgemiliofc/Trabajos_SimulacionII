{
  "nbformat": 4,
  "nbformat_minor": 0,
  "metadata": {
    "colab": {
      "provenance": []
    },
    "kernelspec": {
      "name": "python3",
      "display_name": "Python 3"
    },
    "language_info": {
      "name": "python"
    }
  },
  "cells": [
    {
      "cell_type": "markdown",
      "source": [
        "# **Fabrica de relojes**"
      ],
      "metadata": {
        "id": "BGBClMJLJ4O6"
      }
    },
    {
      "cell_type": "markdown",
      "source": [
        "Vamos a construir una fábrica de relojes. El caja es construida por acero, el cristal por vidrio y las correas de piel. Después de eso, se combinan las partes fisicas con los componentes electrónicos, así se hace el reloj."
      ],
      "metadata": {
        "id": "_N_WwKuKKB_B"
      }
    },
    {
      "cell_type": "markdown",
      "source": [
        "\n",
        "\n",
        "1.   Hay 4 contenedores principales. Acero, Vidrio, Piel y Electrónica. Esos contenedores tienen una cantidad N de componentes que se utilizarán en el proceso.\n",
        "2.   La caja debe tomar una pieza de acero y transformarlo en una caja, que se almacenará en el almacenamiento de cajas. Lo mismo sucede con el constructor de correas, pero de una pieza de cuero obtendrá dos correas. se almacenara en el almacen de correasa y asi sucesivamente\n",
        "3. El pintor elige cajas, los pinta y los almacena en el Almacenamiento de cajas 2\n",
        "4. El ensamblador elige una caja, un vidrio, dos correas y un componente electronico, y ensambla el reloj, que se almacenará en el contenedor de despacho.\n",
        "5. Después de hacer una cantidad N de relojes, envíe a alguien a la tienda a recogerlas.\n",
        "6. Cuando la materia prima este por debajo de cierto nivel, se realiza una llamada al Proveedor. Después de T días, el proveedor llega a la fábrica y rellena el contenedor con materia prima.\n"
      ],
      "metadata": {
        "id": "9vQtaxw3MC9e"
      }
    },
    {
      "cell_type": "code",
      "execution_count": null,
      "metadata": {
        "colab": {
          "base_uri": "https://localhost:8080/"
        },
        "id": "IyRc7oCXFGlm",
        "outputId": "fba207f8-b4e2-4e94-b0a6-1910cfbe52b6"
      },
      "outputs": [
        {
          "output_type": "stream",
          "name": "stdout",
          "text": [
            "Collecting simpy\n",
            "  Downloading simpy-4.0.1-py2.py3-none-any.whl (29 kB)\n",
            "Installing collected packages: simpy\n",
            "Successfully installed simpy-4.0.1\n"
          ]
        }
      ],
      "source": [
        "!pip install simpy\n",
        "\n",
        "import simpy\n",
        "import random"
      ]
    },
    {
      "cell_type": "markdown",
      "source": [
        "Agregamos los 4 primeros contenedores. Por supuesto, el envío comenzará vacío. Si nos quedamos sin alguna materia prima, el proceso no se detendrá, pero tampoco creará más guitarras. Lo mismo sucede si el despacho está lleno."
      ],
      "metadata": {
        "id": "MlUSmhA9QHP1"
      }
    },
    {
      "cell_type": "code",
      "source": [
        "relojes_fabricados = 0\n",
        "\n",
        "#Parámetros\n",
        "\n",
        "#Horas Laborales\n",
        "horas = 8\n",
        "\n",
        "#Dias hábiles\n",
        "dias = 23\n",
        "\n",
        "#tiempo total de trabajo (horas)\n",
        "tiempo_total = horas * dias\n",
        "\n",
        "#contenedores\n",
        "     #acero\n",
        "capacidad_acero = 500\n",
        "inicial_acero = 200\n",
        "\n",
        "     #electronico\n",
        "capacidad_electronica = 100\n",
        "inicial_electronica = 60\n",
        "\n",
        "     #piel\n",
        "capacidad_piel = 250\n",
        "inicial_piel = 100\n",
        "\n",
        "    #vidrio\n",
        "capacidad_vidrio = 500\n",
        "inicial_vidrio = 200\n",
        "\n",
        "capacidad_despacho = 500"
      ],
      "metadata": {
        "id": "AmMz1ZBJOEUp"
      },
      "execution_count": null,
      "outputs": []
    },
    {
      "cell_type": "markdown",
      "source": [
        "Ahora definiremos cuantos empleados y el tiempo que les tomara fabricar cierto componente, las actividades toman diferentes tiempos, incluso se repiten a lo largo del tiempo. Aquí asumiremos que la distribución del tiempo es normal"
      ],
      "metadata": {
        "id": "KqbleCq5QYMs"
      }
    },
    {
      "cell_type": "code",
      "source": [
        "#empleados por actividad\n",
        "     #caja\n",
        "caja_num = 2\n",
        "caja_media = 1\n",
        "caja_desv = 0.1\n",
        "\n",
        "     #cristal\n",
        "cristal_num = 1\n",
        "cristal_media = 1\n",
        "cristal_desv = 0.2\n",
        "\n",
        "    #correas\n",
        "correas_num = 2\n",
        "correas_media = 1\n",
        "correas_desv = 0.2\n",
        "\n",
        "     #ensamblaje\n",
        "ensam_num = 3\n",
        "ensam_media = 3\n",
        "ensam_desv = 0.3"
      ],
      "metadata": {
        "id": "BmI8JeGuPcyd"
      },
      "execution_count": null,
      "outputs": []
    },
    {
      "cell_type": "markdown",
      "source": [
        "Luego, para el nivel crítico que defino depende del tiempo medio que se tarda en crear cada componente, la cantidad de fabricantes de cada unos, los 2 días hábiles que tarda en llegar el proveedor y 1 día de margen solo para estar seguro"
      ],
      "metadata": {
        "id": "slCmyUOvTDGb"
      }
    },
    {
      "cell_type": "code",
      "source": [
        "#niveles críticos\n",
        "     #El stock crítico debe ser 1 día hábil más de lo que tarda el proveedor en llegar\n",
        "\n",
        "acero_critical_stock = ((8/caja_media) * caja_num)*3\n",
        "\n",
        "vidrio_critical_stock = ((8/cristal_media) * cristal_num)*3\n",
        "\n",
        "piel_critical_stock = ((8/correas_media) * correas_num)*3\n",
        "\n",
        "elect_critical_stock = ((8/ensam_media) * ensam_num)*2"
      ],
      "metadata": {
        "id": "ZeX3PgMVSNBU"
      },
      "execution_count": null,
      "outputs": []
    },
    {
      "cell_type": "markdown",
      "source": [
        "  1. El primer rendimiento env.timeout(0) significa que este proceso comenzará a ejecutarse tan pronto como comience la simulación. Podemos cambiar ese valor (0) a, por ejemplo, un 8. De esa manera, el proceso comenzará 8 unidades de tiempo después.\n",
        "\n",
        "2. El while True, como explicamos anteriormente, significa que el proceso se ejecutará durante todo el tiempo que dure la simulación.\n",
        "\n",
        "3. Luego, verificaría si el nivel de existencias es igual o menor que el nivel crítico definido anteriormente. Si el stock es mayor que ese nivel, se cerraría por 1 unidad de tiempo (vea la declaración else).\n",
        "\n",
        "4. Si el nivel de stock es igual o inferior al nivel crítico, se ejecutará la impresión, informando que el nivel es N en un determinado día y hora y se ha realizado la llamada al proveedor.\n",
        "\n",
        "5. Después de 2 días (16 horas), llega el proveedor y volvería a llenar el contenedor de acero con 300 unidades. Eso es lo que significa yield self.wood.put(300).\n",
        "\n",
        "6. Finalmente, se imprime el nuevo nivel de existencias y la alarma se apagará durante 1 día (yield env.timeout(8))."
      ],
      "metadata": {
        "id": "Q139cqv4XZ6o"
      }
    },
    {
      "cell_type": "code",
      "source": [
        "class Fabrica_relojes:\n",
        "   def __inicial__(self, env):\n",
        "    self.acero = simpy.Container(env, capacity = capacidad_acero, init = inicial_acero)\n",
        "    self.acero_control = env.process(self.acero_stock_control(env))\n",
        "\n",
        "    self.piel = simpy.Container(env, capacity = capacidad_piel, init = inicial_piel)\n",
        "    self.piel_control = env.process(self.piel_stock_control(env))\n",
        "\n",
        "    self.vidrio = simpy.Container(env, capacity = capacidad_vidrio, init = inicial_vidrio)\n",
        "    self.vidrio_control = env.process(self.vidrio_stock_control(env))\n",
        "\n",
        "    self.electronica = simpy.Container(env, capacity = capacidad_electronica, init = inicial_electronica)\n",
        "    self.electronica_control = env.process(self.electronica_stock_control(env))\n",
        "\n",
        "    self.despacho = simpy.Container(env ,capacity = capacidad_despacho, init = 0)\n",
        "    self.despacho_control = env.process(self.despacho_control(env))\n",
        "\n",
        "    def acero_stock_control(self, env):\n",
        "      yield env.timeout(0)\n",
        "      while True:\n",
        "          if self.acero.level <= acero_critical_stock:\n",
        "              print('Existencias de acero por debajo del nivel crítico ({0}) en el día {1}, hora {2}'.format(\n",
        "                  self.acero.level, int(env.now/8), env.now % 8))\n",
        "              print('Llamando al proveedor de acero')\n",
        "              print('----------------------------------')\n",
        "              yield env.timeout(16)\n",
        "              print('Proveedor de acero llega el día {0}, hora {1}'.format(\n",
        "                  int(env.now/8), env.now % 8))\n",
        "              yield self.acero.put(300)\n",
        "              print('Nuevo stock de acero es {0}'.format(\n",
        "                  self.acero.level))\n",
        "              print('----------------------------------')\n",
        "              yield env.timeout(8)\n",
        "          else:\n",
        "              yield env.timeout(1)\n",
        "\n",
        "    def vidrio_stock_control(self, env):\n",
        "      yield env.timeout(0)\n",
        "      while True:\n",
        "          if self.vidrio.level <= vidrio_critical_stock:\n",
        "              print('Existencias de vidrio por debajo del nivel crítico ({0}) en el día {1}, hora {2}'.format(\n",
        "                  self.vidrio.level, int(env.now/8), env.now % 8))\n",
        "              print('Llamando al proveedor de vidrio')\n",
        "              print('----------------------------------')\n",
        "              yield env.timeout(16)\n",
        "              print('Proveedor de vidrio llega el día {0}, hora {1}'.format(\n",
        "                  int(env.now/8), env.now % 8))\n",
        "              yield self.vidrio.put(300)\n",
        "              print('Nuevo stock de vidrio es {0}'.format(\n",
        "                  self.vidrio.level))\n",
        "              print('----------------------------------')\n",
        "              yield env.timeout(8)\n",
        "          else:\n",
        "              yield env.timeout(1)\n",
        "\n",
        "    def piel_stock_control(self, env):\n",
        "      yield env.timeout(0)\n",
        "      while True:\n",
        "          if self.piel.level <= piel_critical_stock:\n",
        "              print('Existencias de piel por debajo del nivel crítico ({0}) en el día {1}, hora {2}'.format(\n",
        "                  self.piel.level, int(env.now/8), env.now % 8))\n",
        "              print('Llamando al proveedor de piel')\n",
        "              print('----------------------------------')\n",
        "              yield env.timeout(16)\n",
        "              print('Proveedor de piel llega el día {0}, hora {1}'.format(\n",
        "                  int(env.now/8), env.now % 8))\n",
        "              yield self.piel.put(150)\n",
        "              print('Nuevo stock de piel es {0}'.format(\n",
        "                  self.piel.level))\n",
        "              print('----------------------------------')\n",
        "              yield env.timeout(8)\n",
        "          else:\n",
        "              yield env.timeout(1)\n",
        "\n",
        "    def electronica_stock_control(self, env):\n",
        "      yield env.timeout(0)\n",
        "      while True:\n",
        "          if self.electronica.level <= elect_critical_stock:\n",
        "              print('Existencias de disp. electronicos por debajo del nivel crítico ({0}) en el día {1}, hora {2}'.format(\n",
        "                  self.electronica.level, int(env.now/8), env.now % 8))\n",
        "              print('Llamando al proveedor de dispositivos')\n",
        "              print('----------------------------------')\n",
        "              yield env.timeout(9)\n",
        "              print('Proveedor de dispositivos llega el día {0}, hora {1}'.format(\n",
        "                  int(env.now/8), env.now % 8))\n",
        "              yield self.electronica.put(40)\n",
        "              print('Nuevo stock de vidrio es {0}'.format(\n",
        "                  self.electronica.level))\n",
        "              print('----------------------------------')\n",
        "              yield env.timeout(8)\n",
        "          else:\n",
        "              yield env.timeout(1)\n",
        "\n",
        "    def despacho_control(self, env):\n",
        "        global relojes_fabricados\n",
        "        yield env.timeout(0)\n",
        "        while True:\n",
        "            if self.despacho.level >= 50:\n",
        "                print('el stock de despacho es {0}, llamando a la tienda para recoger relojes el día {1}, hora {2}'.format(\n",
        "                    self.dispatch.level, int(env.now/8), env.now % 8))\n",
        "                print('----------------------------------')\n",
        "                yield env.timeout(4)\n",
        "                print('recoger en la tienda {0} relojes el día {1}, hora {2}'.format(\n",
        "                    self.dispatch.level, int(env.now/8), env.now % 8))\n",
        "                relojes_fabricados += self.despacho.level\n",
        "                yield self.despacho.get(self.despacho.level)\n",
        "                print('----------------------------------')\n",
        "                yield env.timeout(8)\n",
        "            else:\n",
        "                yield env.timeout(1)"
      ],
      "metadata": {
        "id": "1CYr-xe1Xp1W"
      },
      "execution_count": null,
      "outputs": []
    },
    {
      "cell_type": "code",
      "source": [
        "def caja_empl(env, relojes):\n",
        "    while True:\n",
        "        yield relojes.acero.get(1)\n",
        "        caja_tiempo = random.gauss(caja_media, caja_desv)\n",
        "        yield env.timeout(caja_tiempo)\n",
        "        yield relojes.almacen_caja.put(1)\n",
        "\n",
        "def correas_empl(env, relojes):\n",
        "    while True:\n",
        "        yield relojes.piel.get(1)\n",
        "        correas_tiempo = random.gauss(correas_media, correas_desv)\n",
        "        yield env.timeout(correas_tiempo)\n",
        "        yield relojes.almacen_correas.put(2)\n",
        "\n",
        "def cristal_empl(env, relojes):\n",
        "    while True:\n",
        "        yield relojes.vidrio.get(1)\n",
        "        cristal_tiempo = random.gauss(cristal_media, cristal_desv)\n",
        "        yield env.timeout(cristal_tiempo)\n",
        "        yield relojes.almacen_cristal.put(1)\n",
        "\n",
        "def ensamblador(env, relojes):\n",
        "    while True:\n",
        "        yield relojes.almacen_caja.get(1)\n",
        "        yield relojes.almacen_correas.get(2)\n",
        "        yield relojes.almacen_cristal.get(1)\n",
        "        yield relojes.almacen_electronica.get(1)\n",
        "        tiempo_ensamblado = max(random.gauss(ensam_media, ensam_desv), 1)\n",
        "        yield env.timeout(tiempo_ensamblado)\n",
        "        yield relojes.despacho.put(1)\n"
      ],
      "metadata": {
        "id": "uQ9uinSQUATx"
      },
      "execution_count": null,
      "outputs": []
    },
    {
      "cell_type": "markdown",
      "source": [
        "Empezamos a crear nuestros dos primeros empleados. La función toma dos argumentos: el entorno SimPy y la clase Fabrica_reljes:\n",
        "\n",
        "1. Mientras se ejecuta la simulación, el fabricante tomará una pieza de acero (yield fabrica_relojes.acero.get(1)).\n",
        "\n",
        "2. Mantendrá esa pieza de madera por un período de tiempo (eso es lo que hace la función env.timeout). Esto simula el tiempo que lleva transformar una pieza de acero en una caja.\n",
        "\n",
        "3. Después de que haya pasado esa unidad de tiempo (1 en nuestro caso), el fabricante colocará esa pieza en un contenedor llamado despacho.\n",
        "\n",
        "\n",
        "\n"
      ],
      "metadata": {
        "id": "Ai774kgaeTtG"
      }
    },
    {
      "cell_type": "code",
      "source": [
        "#Generadores\n",
        "\n",
        "def fab_caja(env, relojes):\n",
        "    for i in range(caja_num):\n",
        "        env.process(fab_caja(env, relojes))\n",
        "        yield env.timeout(0)\n",
        "\n",
        "def fab_cristal(env, relojes):\n",
        "    for i in range(cristal_num):\n",
        "        env.process(fab_cristal(env, relojes))\n",
        "        yield env.timeout(0)\n",
        "\n",
        "def fab_correas(env, relojes):\n",
        "    for i in range(correas_num):\n",
        "        env.process(fab_correas(env, relojes))\n",
        "        yield env.timeout(0)\n",
        "\n",
        "def fab_ensam(env, relojes):\n",
        "    for i in range(ensam_num):\n",
        "        env.process(fab_ensam(env, relojes))\n",
        "        yield env.timeout(0)\n"
      ],
      "metadata": {
        "id": "T7IagCTAhci6"
      },
      "execution_count": null,
      "outputs": []
    },
    {
      "cell_type": "code",
      "source": [
        "env = simpy.Environment()\n",
        "relojes = Fabrica_relojes"
      ],
      "metadata": {
        "id": "yanIc9VqiEOg"
      },
      "execution_count": null,
      "outputs": []
    },
    {
      "cell_type": "code",
      "source": [
        "caja_gen = env.process(fab_caja(env, relojes))\n",
        "cristal_gen = env.process(fab_cristal(env, relojes))\n",
        "correas_gen = env.process(fab_correas(env, relojes))\n",
        "ensamblado_gen = env.process(fab_ensam(env, relojes))"
      ],
      "metadata": {
        "id": "QBQSB-nsiNDi"
      },
      "execution_count": null,
      "outputs": []
    },
    {
      "cell_type": "code",
      "source": [
        "env.run(until = tiempo_total)"
      ],
      "metadata": {
        "id": "NcosjxAEjGAO"
      },
      "execution_count": null,
      "outputs": []
    },
    {
      "cell_type": "code",
      "source": [
        "print(f'¡El despacho tiene %d relojes listas para usar!' % relojes.despacho.level)\n",
        "print(f'----------------------------------')\n",
        "print('Total relojes fabricados: {0}'.format(relojes_fabricados + relojes.despacho.level))\n",
        "print(f'----------------------------------')\n",
        "print(f'SIMULATION COMPLETED')"
      ],
      "metadata": {
        "id": "vYwfAY5ijJ3e"
      },
      "execution_count": null,
      "outputs": []
    },
    {
      "cell_type": "code",
      "source": [],
      "metadata": {
        "id": "s27KrpZZBe-G"
      },
      "execution_count": null,
      "outputs": []
    }
  ]
}