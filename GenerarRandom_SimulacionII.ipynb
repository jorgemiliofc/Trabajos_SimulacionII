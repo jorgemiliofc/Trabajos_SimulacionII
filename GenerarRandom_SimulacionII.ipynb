{
  "nbformat": 4,
  "nbformat_minor": 0,
  "metadata": {
    "colab": {
      "provenance": []
    },
    "kernelspec": {
      "name": "python3",
      "display_name": "Python 3"
    },
    "language_info": {
      "name": "python"
    }
  },
  "cells": [
    {
      "cell_type": "code",
      "source": [
        "import numpy as np\n"
      ],
      "metadata": {
        "id": "Gexgm_NQX-m7"
      },
      "execution_count": null,
      "outputs": []
    },
    {
      "cell_type": "code",
      "source": [
        "a=15\n",
        "b=21\n",
        "m=64\n",
        "r=21\n",
        "r1=43"
      ],
      "metadata": {
        "id": "Gcsmsso1Y-iB"
      },
      "execution_count": null,
      "outputs": []
    },
    {
      "cell_type": "code",
      "source": [
        "np.mod(456,31)"
      ],
      "metadata": {
        "colab": {
          "base_uri": "https://localhost:8080/"
        },
        "id": "2kkA1mVi5r-P",
        "outputId": "65945dab-eb32-43cd-bd38-699ee35e0a59"
      },
      "execution_count": null,
      "outputs": [
        {
          "output_type": "execute_result",
          "data": {
            "text/plain": [
              "22"
            ]
          },
          "metadata": {},
          "execution_count": 29
        }
      ]
    },
    {
      "cell_type": "code",
      "source": [
        "print(\"i \\t r_i\")\n",
        "for i in range(1,100):\n",
        "  r=np.mod(a*r1+b*r,m)\n",
        "  print(i,\"\\t\",r)"
      ],
      "metadata": {
        "colab": {
          "base_uri": "https://localhost:8080/"
        },
        "id": "ALD-fiyVYUCR",
        "outputId": "c1ea7bf8-e305-49a4-f3c3-9a08f975de44"
      },
      "execution_count": null,
      "outputs": [
        {
          "output_type": "stream",
          "name": "stdout",
          "text": [
            "i \t r_i\n",
            "1 \t 62\n",
            "2 \t 27\n",
            "3 \t 60\n",
            "4 \t 49\n",
            "5 \t 10\n",
            "6 \t 23\n",
            "7 \t 40\n",
            "8 \t 13\n",
            "9 \t 22\n",
            "10 \t 19\n",
            "11 \t 20\n",
            "12 \t 41\n",
            "13 \t 34\n",
            "14 \t 15\n",
            "15 \t 0\n",
            "16 \t 5\n",
            "17 \t 46\n",
            "18 \t 11\n",
            "19 \t 44\n",
            "20 \t 33\n",
            "21 \t 58\n",
            "22 \t 7\n",
            "23 \t 24\n",
            "24 \t 61\n",
            "25 \t 6\n",
            "26 \t 3\n",
            "27 \t 4\n",
            "28 \t 25\n",
            "29 \t 18\n",
            "30 \t 63\n",
            "31 \t 48\n",
            "32 \t 53\n",
            "33 \t 30\n",
            "34 \t 59\n",
            "35 \t 28\n",
            "36 \t 17\n",
            "37 \t 42\n",
            "38 \t 55\n",
            "39 \t 8\n",
            "40 \t 45\n",
            "41 \t 54\n",
            "42 \t 51\n",
            "43 \t 52\n",
            "44 \t 9\n",
            "45 \t 2\n",
            "46 \t 47\n",
            "47 \t 32\n",
            "48 \t 37\n",
            "49 \t 14\n",
            "50 \t 43\n",
            "51 \t 12\n",
            "52 \t 1\n",
            "53 \t 26\n",
            "54 \t 39\n",
            "55 \t 56\n",
            "56 \t 29\n",
            "57 \t 38\n",
            "58 \t 35\n",
            "59 \t 36\n",
            "60 \t 57\n",
            "61 \t 50\n",
            "62 \t 31\n",
            "63 \t 16\n",
            "64 \t 21\n",
            "65 \t 62\n",
            "66 \t 27\n",
            "67 \t 60\n",
            "68 \t 49\n",
            "69 \t 10\n",
            "70 \t 23\n",
            "71 \t 40\n",
            "72 \t 13\n",
            "73 \t 22\n",
            "74 \t 19\n",
            "75 \t 20\n",
            "76 \t 41\n",
            "77 \t 34\n",
            "78 \t 15\n",
            "79 \t 0\n",
            "80 \t 5\n",
            "81 \t 46\n",
            "82 \t 11\n",
            "83 \t 44\n",
            "84 \t 33\n",
            "85 \t 58\n",
            "86 \t 7\n",
            "87 \t 24\n",
            "88 \t 61\n",
            "89 \t 6\n",
            "90 \t 3\n",
            "91 \t 4\n",
            "92 \t 25\n",
            "93 \t 18\n",
            "94 \t 63\n",
            "95 \t 48\n",
            "96 \t 53\n",
            "97 \t 30\n",
            "98 \t 59\n",
            "99 \t 28\n"
          ]
        }
      ]
    }
  ]
}