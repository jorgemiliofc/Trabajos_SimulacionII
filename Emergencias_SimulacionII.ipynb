{
  "nbformat": 4,
  "nbformat_minor": 0,
  "metadata": {
    "colab": {
      "provenance": []
    },
    "kernelspec": {
      "name": "python3",
      "display_name": "Python 3"
    },
    "language_info": {
      "name": "python"
    }
  },
  "cells": [
    {
      "cell_type": "markdown",
      "source": [
        "La central de un servicio de emergencias dispone de tres telefonos para atender las llamadas. La duracion de las llamadas sigue una distribucion normal con los parametros que recoge la tabla en minutos.\n",
        "\n",
        "<center>\n",
        "\n",
        "|Operador | Media | Desviacion |\n",
        "|:---------:|:-------:|:------------:|\n",
        "| 1       | 2.0   | 0.4        |\n",
        "| 2       | 2.1   | 0.3        |\n",
        "| 3       | 1.9   | 0.5        |\n",
        "\n",
        "</center>\n",
        "\n",
        "Determine el tiempo medio de respuestas de la central de emergencias\n"
      ],
      "metadata": {
        "id": "nk8CUU6ACSYc"
      }
    },
    {
      "cell_type": "code",
      "execution_count": null,
      "metadata": {
        "id": "7yeccxP6CPkc"
      },
      "outputs": [],
      "source": [
        "import numpy as np\n",
        "import random\n",
        "import matplotlib.pyplot as plt"
      ]
    },
    {
      "cell_type": "code",
      "source": [
        "media = [2.0, 2.1, 1.9]\n",
        "desviacion = [0.4, 0.3, 0.5]"
      ],
      "metadata": {
        "id": "OHgR8WnAF_lV"
      },
      "execution_count": null,
      "outputs": []
    },
    {
      "cell_type": "code",
      "source": [
        "def duracion_llamada(i): #i es el numero del operador\n",
        "  duracion_llamada = random.normalvariate(media[i-1], desviacion[i-1])\n",
        "  return duracion_llamada"
      ],
      "metadata": {
        "id": "0qvZSbr9kxr9"
      },
      "execution_count": null,
      "outputs": []
    },
    {
      "cell_type": "code",
      "source": [
        "def tiempo_respuesta():\n",
        "  duracion_op1=duracion_llamada(1)\n",
        "  duracion_op2=duracion_llamada(2)\n",
        "  duracion_op3=duracion_llamada(3)\n",
        "  array=[duracion_op1, duracion_op2, duracion_op3]\n",
        "  t_respuesta=np.amax(array)\n",
        "  return t_respuesta"
      ],
      "metadata": {
        "id": "4demT0jBlah2"
      },
      "execution_count": null,
      "outputs": []
    },
    {
      "cell_type": "code",
      "source": [
        "def experimento(n): #Hacemos el experimento n veces\n",
        "    i = 0\n",
        "    c=0\n",
        "    Lista = []\n",
        "    while i<=n:\n",
        "        c+=tiempo_respuesta()\n",
        "        i += 1\n",
        "        p=c/i #probabilidad acumulativa\n",
        "        Lista.append(p)\n",
        "    return Lista"
      ],
      "metadata": {
        "id": "nBKkJI-Ao_MT"
      },
      "execution_count": null,
      "outputs": []
    },
    {
      "cell_type": "code",
      "source": [
        "def simulacion_ventas(n):\n",
        "    List = []\n",
        "    for i in range(n):\n",
        "        List.append(np.mean(experimento(5000)))\n",
        "    return List"
      ],
      "metadata": {
        "id": "pBHGafyopKPm"
      },
      "execution_count": null,
      "outputs": []
    },
    {
      "cell_type": "code",
      "source": [
        "x=np.mean(experimento(500000))\n",
        "print(x)"
      ],
      "metadata": {
        "colab": {
          "base_uri": "https://localhost:8080/"
        },
        "id": "5C8tjEsOqTBT",
        "outputId": "5f3d1704-cb39-4926-92ce-176bcd20026c"
      },
      "execution_count": null,
      "outputs": [
        {
          "output_type": "stream",
          "name": "stdout",
          "text": [
            "2.348396787048528\n"
          ]
        }
      ]
    },
    {
      "cell_type": "code",
      "source": [
        "def calcular_intervalo_confianza(media, n, nivel_confianza):\n",
        "    z = 1.96  # Valor crítico para un nivel de confianza del 95%\n",
        "    error = z * (np.std(exp) / np.sqrt(n))\n",
        "    intervalo_inferior = media - error\n",
        "    intervalo_superior = media + error\n",
        "    return intervalo_inferior, intervalo_superior\n",
        "\n",
        "# Datos del experimento\n",
        "exp = experimento(500000)\n",
        "media = np.mean(exp)\n",
        "n = len(exp)\n",
        "nivel_confianza = 0.95\n",
        "\n",
        "# Cálculo del intervalo de confianza\n",
        "intervalo_inferior, intervalo_superior = calcular_intervalo_confianza(media, n, nivel_confianza)"
      ],
      "metadata": {
        "id": "PgC2C-QrtRVR"
      },
      "execution_count": null,
      "outputs": []
    },
    {
      "cell_type": "code",
      "source": [
        "\n",
        "plt.plot(exp, linewidth=1.5, color=\"green\", label=f'T RESPUESTA')\n",
        "plt.xlabel('Iteraciones', fontsize=12)\n",
        "plt.ylabel('Tiempo', fontsize=12)\n",
        "plt.title('TIEMPO RESPUESTA', fontsize=14)\n",
        "plt.legend(loc='upper right', fontsize=10)\n",
        "plt.margins(0.05)\n",
        "\n",
        "# Agregar intervalo de confianza al gráfico\n",
        "plt.axhline(intervalo_inferior, color='red', linestyle='dashed', label='Intervalo de Confianza (95%)')\n",
        "plt.axhline(intervalo_superior, color='red', linestyle='dashed')\n",
        "plt.fill_between(range(len(exp)), intervalo_inferior, intervalo_superior, color='red', alpha=0.2)\n",
        "\n",
        "plt.show()"
      ],
      "metadata": {
        "colab": {
          "base_uri": "https://localhost:8080/",
          "height": 526
        },
        "id": "Fa0WxqrNqVyY",
        "outputId": "4dd81b21-c2e3-4284-cbcc-22abc96534eb"
      },
      "execution_count": null,
      "outputs": [
        {
          "output_type": "display_data",
          "data": {
            "text/plain": [
              "<Figure size 800x550 with 1 Axes>"
            ],
            "image/png": "[encoded data removed]"
          },
          "metadata": {}
        }
      ]
    }
  ]
}