{
  "nbformat": 4,
  "nbformat_minor": 0,
  "metadata": {
    "colab": {
      "provenance": []
    },
    "kernelspec": {
      "name": "python3",
      "display_name": "Python 3"
    },
    "language_info": {
      "name": "python"
    }
  },
  "cells": [
    {
      "cell_type": "code",
      "source": [
        "!pip install simpy"
      ],
      "metadata": {
        "colab": {
          "base_uri": "https://localhost:8080/"
        },
        "id": "zZLsk5sbsClv",
        "outputId": "97e115ac-2103-4822-f41a-cec976086bdc"
      },
      "execution_count": null,
      "outputs": [
        {
          "output_type": "stream",
          "name": "stdout",
          "text": [
            "Looking in indexes: https://pypi.org/simple, https://us-python.pkg.dev/colab-wheels/public/simple/\n",
            "Collecting simpy\n",
            "  Downloading simpy-4.0.1-py2.py3-none-any.whl (29 kB)\n",
            "Installing collected packages: simpy\n",
            "Successfully installed simpy-4.0.1\n"
          ]
        }
      ]
    },
    {
      "cell_type": "markdown",
      "source": [
        "<head>\n",
        "<style>\n",
        "  h1 {\n",
        "    font-weight: bold;\n",
        "    color: darkorange;\n",
        "    text-align: center;\n",
        "  }\n",
        "</style>\n",
        "</head>\n",
        "\n",
        "<h1>SISTEMA DE ALMACEN: USO DE LA LIBRERIA SIMPY</h1>"
      ],
      "metadata": {
        "id": "NBELFK9yxMjf"
      }
    },
    {
      "cell_type": "markdown",
      "source": [
        "1° Se importan los módulos necesarios para la simulación (simpy), este bloque, la generación de números aleatorios (numpy) y la visualización de gráficos (matplotlib.pyplot)."
      ],
      "metadata": {
        "id": "CRqBWQwaxiqG"
      }
    },
    {
      "cell_type": "code",
      "source": [
        "import simpy\n",
        "import numpy as np\n",
        "import matplotlib.pyplot as plt"
      ],
      "metadata": {
        "id": "JNcNI6u8uIe5"
      },
      "execution_count": null,
      "outputs": []
    },
    {
      "cell_type": "markdown",
      "source": [
        "2° Se declaran dos funciones auxiliares que se encargaran de generar los valores de interarribo (tiempo entre llegadas) y demanda aleatoria para el inventario."
      ],
      "metadata": {
        "id": "F5XNMKEOx5Fc"
      }
    },
    {
      "cell_type": "code",
      "source": [
        "def generar_interarribo():\n",
        "    return np.random.exponential(1.0 / 5) # Genera un valor de tiempo entre llegadas utilizando una distribución exponencial con media de 1/5\n",
        "\n",
        "def generar_demanda():\n",
        "    return np.random.randint(1, 5) # Genera un valor de demanda aleatoria entre 1 y 4 (ambos inclusive)"
      ],
      "metadata": {
        "id": "sxI20EGTvSEL"
      },
      "execution_count": null,
      "outputs": []
    },
    {
      "cell_type": "markdown",
      "source": [
        "3° Se declara la función ejecutar_almacen es el proceso principal de la simulación. Se encarga de gestionar el inventario y las ventas. El bucle infinito simula el paso del tiempo, donde se generan los interarribos, se calcula el balance, se genera la demanda y se actualiza el inventario en función de las ventas. Si el inventario alcanza un punto de reorden y no hay pedidos en curso, se inicia el proceso de realizar un pedido mediante env.process(realizar_pedido(env, objetivo_pedido))."
      ],
      "metadata": {
        "id": "wrnaKIJvyq98"
      }
    },
    {
      "cell_type": "code",
      "source": [
        "def ejecutar_almacen(env, punto_reorden, objetivo_pedido):\n",
        "    global inventario, balance, num_pedidos\n",
        "\n",
        "    inventario = objetivo_pedido                                                 # Establece el inventario inicial al objetivo de pedido\n",
        "    balance = 0.0                                                                # Inicializa el balance a cero\n",
        "    num_pedidos = 0.0                                                            # Inicializa el número de pedidos a cero\n",
        "\n",
        "    while True:\n",
        "        interarribo = generar_interarribo()                                      # Genera un tiempo de interarribo\n",
        "        yield env.timeout(interarribo)                                           # Espera el tiempo de interarribo\n",
        "        balance -= inventario * 2 * interarribo                                   # Actualiza el balance restando el costo de mantenimiento del inventario\n",
        "        demanda = generar_demanda()\n",
        "\n",
        "        if demanda < inventario:                                                 # Si la demanda es menor que el inventario disponible\n",
        "            balance += 100 * demanda                                             # Incrementa el balance con el beneficio de la venta\n",
        "            inventario -= demanda                                                # Actualiza el inventario restando la demanda vendida\n",
        "            print('{:.2f} vendidos {}'.format(env.now, demanda))                 # Imprime el tiempo actual y la cantidad vendida\n",
        "        else:\n",
        "            balance += 100 * inventario                                          # Incrementa el balance con el beneficio de la venta del inventario completo\n",
        "            inventario = 0                                                        # Establece el inventario a cero\n",
        "            print('{:.2f} vendidos {} (sin stock)'.format(env.now, inventario))  # Imprime el tiempo actual y que no hay stock disponible\n",
        "\n",
        "        if inventario < punto_reorden and num_pedidos == 0:\n",
        "            env.process(realizar_pedido(env, objetivo_pedido))                   # Inicia el proceso de realizar un pedido"
      ],
      "metadata": {
        "id": "OqjV97uPwtBR"
      },
      "execution_count": null,
      "outputs": []
    },
    {
      "cell_type": "markdown",
      "source": [
        "3° La función realizar_pedido representa el proceso de realizar un pedido cuando el inventario alcanza el punto de reorden. El pedido se realiza para alcanzar el objetivo de inventario. Durante el proceso de pedido, se espera un tiempo de 2 dias y luego se actualiza el inventario y se reinicia el contador de pedidos."
      ],
      "metadata": {
        "id": "7yzoTbHvFkH6"
      }
    },
    {
      "cell_type": "code",
      "source": [
        "def realizar_pedido(env, objetivo_pedido):\n",
        "    global inventario, balance, num_pedidos\n",
        "\n",
        "    num_pedidos = objetivo_pedido - inventario  # Calcula la cantidad de productos que se deben pedir para alcanzar el objetivo de pedido\n",
        "    print('{:.2f} realizado pedido de {}'.format(env.now, num_pedidos))  # Imprime el tiempo actual y la cantidad de productos pedidos\n",
        "    balance -= 50 * num_pedidos  # Actualiza el balance restando el costo del pedido\n",
        "    yield env.timeout(2.0) # Espera un tiempo de 2 unidades (dias) para recibir el pedido\n",
        "    inventario += num_pedidos # Aumenta el inventario con la cantidad de productos pedidos\n",
        "    num_pedidos = 0 # Reinicia el contador de pedidos a cero\n",
        "    print('{:.2f} pedido recibido, {} en inventario'.format(env.now, inventario)) # Imprime el tiempo actual y la nueva cantidad de productos en inventario"
      ],
      "metadata": {
        "id": "Xgrzo0Npw1Uz"
      },
      "execution_count": null,
      "outputs": []
    },
    {
      "cell_type": "markdown",
      "source": [
        "4° La función observar se utiliza para registrar y almacenar datos de observación del inventario en intervalos de tiempo regulares. En cada iteración del bucle, se registra el tiempo actual (env.now) y el nivel actual del inventario. Luego se espera un tiempo de 0.1 unidades antes de la siguiente observación."
      ],
      "metadata": {
        "id": "CngSUPAoFuSc"
      }
    },
    {
      "cell_type": "code",
      "source": [
        "def observar(env):\n",
        "    global inventario\n",
        "\n",
        "    while True: # Bucle infinito para observar continuamente el inventario\n",
        "        tiempo_observado.append(env.now) # Agrega el tiempo actual a la lista de tiempos observados\n",
        "        nivel_inventario.append(inventario) # Agrega el nivel actual del inventario a la lista de niveles de inventario\n",
        "        yield env.timeout(0.1) # Espera un tiempo de 0.1 unidades antes de la siguiente observación"
      ],
      "metadata": {
        "id": "yI_uFM-3w4We"
      },
      "execution_count": null,
      "outputs": []
    },
    {
      "cell_type": "markdown",
      "source": [
        "5° En el bloque principal, se establece la semilla para la generación de números aleatorios y se inicializan las listas tiempo_observado y nivel_inventario para almacenar los datos observados. Luego, se crea el entorno de simulación (simpy.Environment()) y se inician los procesos ejecutar_almacen y observar. Finalmente, se ejecuta la simulación hasta un tiempo de simulación de 5 unidades."
      ],
      "metadata": {
        "id": "pFIx7oCWF2gU"
      }
    },
    {
      "cell_type": "code",
      "source": [
        "np.random.seed(0) # Establece la semilla para la generación de números aleatorios para reproducibilidad\n",
        "\n",
        "tiempo_observado = [] # Lista para almacenar los tiempos observados\n",
        "nivel_inventario = [] # Lista para almacenar los niveles de inventario observados\n",
        "\n",
        "env = simpy.Environment() # Crea el entorno de simulación\n",
        "env.process(ejecutar_almacen(env, 20, 50)) # Inicia el proceso de ejecutar el almacén con parámetros de punto de reorden y objetivo de pedido\n",
        "env.process(observar(env)) # Inicia el proceso de observación del inventario\n",
        "\n",
        "env.run(until=5.0) # Ejecuta la simulación hasta alcanzar un tiempo de 5.0 unidades"
      ],
      "metadata": {
        "colab": {
          "base_uri": "https://localhost:8080/"
        },
        "id": "1JMHA_FBxAiu",
        "outputId": "7b6406f2-36ac-4828-d21d-ca40e01579e4"
      },
      "execution_count": null,
      "outputs": [
        {
          "output_type": "stream",
          "name": "stdout",
          "text": [
            "0.16 vendidos 2\n",
            "0.53 vendidos 4\n",
            "0.69 vendidos 2\n",
            "0.88 vendidos 3\n",
            "1.00 vendidos 3\n",
            "1.01 vendidos 1\n",
            "1.11 vendidos 3\n",
            "1.44 vendidos 3\n",
            "1.61 vendidos 2\n",
            "1.97 vendidos 1\n",
            "1.99 vendidos 4\n",
            "2.08 vendidos 2\n",
            "2.38 vendidos 4\n",
            "2.38 realizado pedido de 34\n",
            "2.79 vendidos 4\n",
            "3.11 vendidos 4\n",
            "3.26 vendidos 4\n",
            "3.28 vendidos 1\n",
            "3.46 vendidos 2\n",
            "4.04 vendidos 0 (sin stock)\n",
            "4.06 vendidos 0 (sin stock)\n",
            "4.12 vendidos 0 (sin stock)\n",
            "4.38 pedido recibido, 34 en inventario\n",
            "4.39 vendidos 1\n",
            "4.56 vendidos 1\n",
            "4.63 vendidos 2\n",
            "4.82 vendidos 1\n",
            "4.92 vendidos 1\n"
          ]
        }
      ]
    },
    {
      "cell_type": "markdown",
      "source": [
        "6° Se utiliza la función de matplotlib.pyplot para dibujar un gráfico escalonado a partir de los datos de observación y se agregan etiquetas a los ejes. Finalmente, se muestra el gráfico en pantalla utilizando plt.show()."
      ],
      "metadata": {
        "id": "kssrEmxzF7sk"
      }
    },
    {
      "cell_type": "code",
      "source": [
        "plt.figure()\n",
        "plt.step(tiempo_observado, nivel_inventario, where='post') # Dibuja un gráfico escalonado utilizando los tiempos observados como valores x y los niveles de inventario observados como valores y\n",
        "plt.xlabel(\"Tiempo de simulación (días)\")\n",
        "plt.ylabel(\"Nivel de inventario\")\n",
        "plt.show()"
      ],
      "metadata": {
        "colab": {
          "base_uri": "https://localhost:8080/",
          "height": 450
        },
        "id": "TAeeB-ZVxG6z",
        "outputId": "65d66670-8bc8-46bd-d649-8c54677ec203"
      },
      "execution_count": null,
      "outputs": [
        {
          "output_type": "display_data",
          "data": {
            "text/plain": [
              "<Figure size 640x480 with 1 Axes>"
            ],
            "image/png": "[encoded data removed]"
          },
          "metadata": {}
        }
      ]
    }
  ]
}